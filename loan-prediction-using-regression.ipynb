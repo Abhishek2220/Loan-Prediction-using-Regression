{
 "cells": [
  {
   "cell_type": "code",
   "execution_count": 1,
   "id": "3516b303",
   "metadata": {
    "_cell_guid": "b1076dfc-b9ad-4769-8c92-a6c4dae69d19",
    "_uuid": "8f2839f25d086af736a60e9eeb907d3b93b6e0e5",
    "execution": {
     "iopub.execute_input": "2023-03-15T07:20:17.836294Z",
     "iopub.status.busy": "2023-03-15T07:20:17.835498Z",
     "iopub.status.idle": "2023-03-15T07:20:19.444421Z",
     "shell.execute_reply": "2023-03-15T07:20:19.442864Z"
    },
    "papermill": {
     "duration": 1.625193,
     "end_time": "2023-03-15T07:20:19.447611",
     "exception": false,
     "start_time": "2023-03-15T07:20:17.822418",
     "status": "completed"
    },
    "tags": []
   },
   "outputs": [
    {
     "name": "stdout",
     "output_type": "stream",
     "text": [
      "/kaggle/input/loan-data-set/loan_train.csv\n",
      "/kaggle/input/loan-data-set/loan_test.csv\n"
     ]
    }
   ],
   "source": [
    "# This Python 3 environment comes with many helpful analytics libraries installed\n",
    "# It is defined by the kaggle/python Docker image: https://github.com/kaggle/docker-python\n",
    "# For example, here's several helpful packages to load\n",
    "\n",
    "import numpy as np # linear algebra\n",
    "import pandas as pd # data processing, CSV file I/O (e.g. pd.read_csv)\n",
    "import seaborn as sns\n",
    "import matplotlib.pyplot as plt\n",
    "from sklearn import linear_model \n",
    "\n",
    "# Input data files are available in the read-only \"../input/\" directory\n",
    "# For example, running this (by clicking run or pressing Shift+Enter) will list all files under the input directory\n",
    "\n",
    "import os\n",
    "for dirname, _, filenames in os.walk('/kaggle/input'):\n",
    "    for filename in filenames:\n",
    "        print(os.path.join(dirname, filename))\n",
    "\n",
    "# You can write up to 20GB to the current directory (/kaggle/working/) that gets preserved as output when you create a version using \"Save & Run All\" \n",
    "# You can also write temporary files to /kaggle/temp/, but they won't be saved outside of the current session"
   ]
  },
  {
   "cell_type": "markdown",
   "id": "0dbacc92",
   "metadata": {
    "papermill": {
     "duration": 0.009726,
     "end_time": "2023-03-15T07:20:19.467769",
     "exception": false,
     "start_time": "2023-03-15T07:20:19.458043",
     "status": "completed"
    },
    "tags": []
   },
   "source": [
    "#READING THE DATA"
   ]
  },
  {
   "cell_type": "code",
   "execution_count": 2,
   "id": "1a156a40",
   "metadata": {
    "execution": {
     "iopub.execute_input": "2023-03-15T07:20:19.490196Z",
     "iopub.status.busy": "2023-03-15T07:20:19.489729Z",
     "iopub.status.idle": "2023-03-15T07:20:19.510942Z",
     "shell.execute_reply": "2023-03-15T07:20:19.509509Z"
    },
    "papermill": {
     "duration": 0.035902,
     "end_time": "2023-03-15T07:20:19.513881",
     "exception": false,
     "start_time": "2023-03-15T07:20:19.477979",
     "status": "completed"
    },
    "tags": []
   },
   "outputs": [],
   "source": [
    "train=pd.read_csv(\"/kaggle/input/loan-data-set/loan_train.csv\")"
   ]
  },
  {
   "cell_type": "code",
   "execution_count": 3,
   "id": "de4b735a",
   "metadata": {
    "execution": {
     "iopub.execute_input": "2023-03-15T07:20:19.537814Z",
     "iopub.status.busy": "2023-03-15T07:20:19.537371Z",
     "iopub.status.idle": "2023-03-15T07:20:19.572414Z",
     "shell.execute_reply": "2023-03-15T07:20:19.570782Z"
    },
    "papermill": {
     "duration": 0.051133,
     "end_time": "2023-03-15T07:20:19.575294",
     "exception": false,
     "start_time": "2023-03-15T07:20:19.524161",
     "status": "completed"
    },
    "tags": []
   },
   "outputs": [
    {
     "data": {
      "text/html": [
       "<div>\n",
       "<style scoped>\n",
       "    .dataframe tbody tr th:only-of-type {\n",
       "        vertical-align: middle;\n",
       "    }\n",
       "\n",
       "    .dataframe tbody tr th {\n",
       "        vertical-align: top;\n",
       "    }\n",
       "\n",
       "    .dataframe thead th {\n",
       "        text-align: right;\n",
       "    }\n",
       "</style>\n",
       "<table border=\"1\" class=\"dataframe\">\n",
       "  <thead>\n",
       "    <tr style=\"text-align: right;\">\n",
       "      <th></th>\n",
       "      <th>Gender</th>\n",
       "      <th>Married</th>\n",
       "      <th>Dependents</th>\n",
       "      <th>Education</th>\n",
       "      <th>Self_Employed</th>\n",
       "      <th>Applicant_Income</th>\n",
       "      <th>Coapplicant_Income</th>\n",
       "      <th>Loan_Amount</th>\n",
       "      <th>Term</th>\n",
       "      <th>Credit_History</th>\n",
       "      <th>Area</th>\n",
       "      <th>Status</th>\n",
       "    </tr>\n",
       "  </thead>\n",
       "  <tbody>\n",
       "    <tr>\n",
       "      <th>0</th>\n",
       "      <td>Male</td>\n",
       "      <td>No</td>\n",
       "      <td>0</td>\n",
       "      <td>Graduate</td>\n",
       "      <td>No</td>\n",
       "      <td>584900</td>\n",
       "      <td>0.0</td>\n",
       "      <td>15000000</td>\n",
       "      <td>360.0</td>\n",
       "      <td>1.0</td>\n",
       "      <td>Urban</td>\n",
       "      <td>Y</td>\n",
       "    </tr>\n",
       "    <tr>\n",
       "      <th>1</th>\n",
       "      <td>Male</td>\n",
       "      <td>Yes</td>\n",
       "      <td>1</td>\n",
       "      <td>Graduate</td>\n",
       "      <td>No</td>\n",
       "      <td>458300</td>\n",
       "      <td>150800.0</td>\n",
       "      <td>12800000</td>\n",
       "      <td>360.0</td>\n",
       "      <td>1.0</td>\n",
       "      <td>Rural</td>\n",
       "      <td>N</td>\n",
       "    </tr>\n",
       "    <tr>\n",
       "      <th>2</th>\n",
       "      <td>Male</td>\n",
       "      <td>Yes</td>\n",
       "      <td>0</td>\n",
       "      <td>Graduate</td>\n",
       "      <td>Yes</td>\n",
       "      <td>300000</td>\n",
       "      <td>0.0</td>\n",
       "      <td>6600000</td>\n",
       "      <td>360.0</td>\n",
       "      <td>1.0</td>\n",
       "      <td>Urban</td>\n",
       "      <td>Y</td>\n",
       "    </tr>\n",
       "    <tr>\n",
       "      <th>3</th>\n",
       "      <td>Male</td>\n",
       "      <td>Yes</td>\n",
       "      <td>0</td>\n",
       "      <td>Not Graduate</td>\n",
       "      <td>No</td>\n",
       "      <td>258300</td>\n",
       "      <td>235800.0</td>\n",
       "      <td>12000000</td>\n",
       "      <td>360.0</td>\n",
       "      <td>1.0</td>\n",
       "      <td>Urban</td>\n",
       "      <td>Y</td>\n",
       "    </tr>\n",
       "    <tr>\n",
       "      <th>4</th>\n",
       "      <td>Male</td>\n",
       "      <td>No</td>\n",
       "      <td>0</td>\n",
       "      <td>Graduate</td>\n",
       "      <td>No</td>\n",
       "      <td>600000</td>\n",
       "      <td>0.0</td>\n",
       "      <td>14100000</td>\n",
       "      <td>360.0</td>\n",
       "      <td>1.0</td>\n",
       "      <td>Urban</td>\n",
       "      <td>Y</td>\n",
       "    </tr>\n",
       "  </tbody>\n",
       "</table>\n",
       "</div>"
      ],
      "text/plain": [
       "  Gender Married Dependents     Education Self_Employed  Applicant_Income  \\\n",
       "0   Male      No          0      Graduate            No            584900   \n",
       "1   Male     Yes          1      Graduate            No            458300   \n",
       "2   Male     Yes          0      Graduate           Yes            300000   \n",
       "3   Male     Yes          0  Not Graduate            No            258300   \n",
       "4   Male      No          0      Graduate            No            600000   \n",
       "\n",
       "   Coapplicant_Income  Loan_Amount   Term  Credit_History   Area Status  \n",
       "0                 0.0     15000000  360.0             1.0  Urban      Y  \n",
       "1            150800.0     12800000  360.0             1.0  Rural      N  \n",
       "2                 0.0      6600000  360.0             1.0  Urban      Y  \n",
       "3            235800.0     12000000  360.0             1.0  Urban      Y  \n",
       "4                 0.0     14100000  360.0             1.0  Urban      Y  "
      ]
     },
     "execution_count": 3,
     "metadata": {},
     "output_type": "execute_result"
    }
   ],
   "source": [
    "train.head()"
   ]
  },
  {
   "cell_type": "code",
   "execution_count": 4,
   "id": "95c11f04",
   "metadata": {
    "execution": {
     "iopub.execute_input": "2023-03-15T07:20:19.600422Z",
     "iopub.status.busy": "2023-03-15T07:20:19.599086Z",
     "iopub.status.idle": "2023-03-15T07:20:19.620633Z",
     "shell.execute_reply": "2023-03-15T07:20:19.619098Z"
    },
    "papermill": {
     "duration": 0.037377,
     "end_time": "2023-03-15T07:20:19.623548",
     "exception": false,
     "start_time": "2023-03-15T07:20:19.586171",
     "status": "completed"
    },
    "tags": []
   },
   "outputs": [
    {
     "data": {
      "text/html": [
       "<div>\n",
       "<style scoped>\n",
       "    .dataframe tbody tr th:only-of-type {\n",
       "        vertical-align: middle;\n",
       "    }\n",
       "\n",
       "    .dataframe tbody tr th {\n",
       "        vertical-align: top;\n",
       "    }\n",
       "\n",
       "    .dataframe thead th {\n",
       "        text-align: right;\n",
       "    }\n",
       "</style>\n",
       "<table border=\"1\" class=\"dataframe\">\n",
       "  <thead>\n",
       "    <tr style=\"text-align: right;\">\n",
       "      <th></th>\n",
       "      <th>Gender</th>\n",
       "      <th>Married</th>\n",
       "      <th>Dependents</th>\n",
       "      <th>Education</th>\n",
       "      <th>Self_Employed</th>\n",
       "      <th>Applicant_Income</th>\n",
       "      <th>Coapplicant_Income</th>\n",
       "      <th>Loan_Amount</th>\n",
       "      <th>Term</th>\n",
       "      <th>Credit_History</th>\n",
       "      <th>Area</th>\n",
       "      <th>Status</th>\n",
       "    </tr>\n",
       "  </thead>\n",
       "  <tbody>\n",
       "    <tr>\n",
       "      <th>609</th>\n",
       "      <td>Female</td>\n",
       "      <td>No</td>\n",
       "      <td>0</td>\n",
       "      <td>Graduate</td>\n",
       "      <td>No</td>\n",
       "      <td>290000</td>\n",
       "      <td>0.0</td>\n",
       "      <td>7100000</td>\n",
       "      <td>360.0</td>\n",
       "      <td>1.0</td>\n",
       "      <td>Rural</td>\n",
       "      <td>Y</td>\n",
       "    </tr>\n",
       "    <tr>\n",
       "      <th>610</th>\n",
       "      <td>Male</td>\n",
       "      <td>Yes</td>\n",
       "      <td>3+</td>\n",
       "      <td>Graduate</td>\n",
       "      <td>No</td>\n",
       "      <td>410600</td>\n",
       "      <td>0.0</td>\n",
       "      <td>4000000</td>\n",
       "      <td>180.0</td>\n",
       "      <td>1.0</td>\n",
       "      <td>Rural</td>\n",
       "      <td>Y</td>\n",
       "    </tr>\n",
       "    <tr>\n",
       "      <th>611</th>\n",
       "      <td>Male</td>\n",
       "      <td>Yes</td>\n",
       "      <td>1</td>\n",
       "      <td>Graduate</td>\n",
       "      <td>No</td>\n",
       "      <td>807200</td>\n",
       "      <td>24000.0</td>\n",
       "      <td>25300000</td>\n",
       "      <td>360.0</td>\n",
       "      <td>1.0</td>\n",
       "      <td>Urban</td>\n",
       "      <td>Y</td>\n",
       "    </tr>\n",
       "    <tr>\n",
       "      <th>612</th>\n",
       "      <td>Male</td>\n",
       "      <td>Yes</td>\n",
       "      <td>2</td>\n",
       "      <td>Graduate</td>\n",
       "      <td>No</td>\n",
       "      <td>758300</td>\n",
       "      <td>0.0</td>\n",
       "      <td>18700000</td>\n",
       "      <td>360.0</td>\n",
       "      <td>1.0</td>\n",
       "      <td>Urban</td>\n",
       "      <td>Y</td>\n",
       "    </tr>\n",
       "    <tr>\n",
       "      <th>613</th>\n",
       "      <td>Female</td>\n",
       "      <td>No</td>\n",
       "      <td>0</td>\n",
       "      <td>Graduate</td>\n",
       "      <td>Yes</td>\n",
       "      <td>458300</td>\n",
       "      <td>0.0</td>\n",
       "      <td>13300000</td>\n",
       "      <td>360.0</td>\n",
       "      <td>0.0</td>\n",
       "      <td>Semiurban</td>\n",
       "      <td>N</td>\n",
       "    </tr>\n",
       "  </tbody>\n",
       "</table>\n",
       "</div>"
      ],
      "text/plain": [
       "     Gender Married Dependents Education Self_Employed  Applicant_Income  \\\n",
       "609  Female      No          0  Graduate            No            290000   \n",
       "610    Male     Yes         3+  Graduate            No            410600   \n",
       "611    Male     Yes          1  Graduate            No            807200   \n",
       "612    Male     Yes          2  Graduate            No            758300   \n",
       "613  Female      No          0  Graduate           Yes            458300   \n",
       "\n",
       "     Coapplicant_Income  Loan_Amount   Term  Credit_History       Area Status  \n",
       "609                 0.0      7100000  360.0             1.0      Rural      Y  \n",
       "610                 0.0      4000000  180.0             1.0      Rural      Y  \n",
       "611             24000.0     25300000  360.0             1.0      Urban      Y  \n",
       "612                 0.0     18700000  360.0             1.0      Urban      Y  \n",
       "613                 0.0     13300000  360.0             0.0  Semiurban      N  "
      ]
     },
     "execution_count": 4,
     "metadata": {},
     "output_type": "execute_result"
    }
   ],
   "source": [
    "train.tail()"
   ]
  },
  {
   "cell_type": "code",
   "execution_count": 5,
   "id": "fa2e7fce",
   "metadata": {
    "execution": {
     "iopub.execute_input": "2023-03-15T07:20:19.646992Z",
     "iopub.status.busy": "2023-03-15T07:20:19.646580Z",
     "iopub.status.idle": "2023-03-15T07:20:19.670426Z",
     "shell.execute_reply": "2023-03-15T07:20:19.668843Z"
    },
    "papermill": {
     "duration": 0.038618,
     "end_time": "2023-03-15T07:20:19.672953",
     "exception": false,
     "start_time": "2023-03-15T07:20:19.634335",
     "status": "completed"
    },
    "tags": []
   },
   "outputs": [
    {
     "data": {
      "text/html": [
       "<div>\n",
       "<style scoped>\n",
       "    .dataframe tbody tr th:only-of-type {\n",
       "        vertical-align: middle;\n",
       "    }\n",
       "\n",
       "    .dataframe tbody tr th {\n",
       "        vertical-align: top;\n",
       "    }\n",
       "\n",
       "    .dataframe thead th {\n",
       "        text-align: right;\n",
       "    }\n",
       "</style>\n",
       "<table border=\"1\" class=\"dataframe\">\n",
       "  <thead>\n",
       "    <tr style=\"text-align: right;\">\n",
       "      <th></th>\n",
       "      <th>Gender</th>\n",
       "      <th>Married</th>\n",
       "      <th>Dependents</th>\n",
       "      <th>Education</th>\n",
       "      <th>Self_Employed</th>\n",
       "      <th>Applicant_Income</th>\n",
       "      <th>Coapplicant_Income</th>\n",
       "      <th>Loan_Amount</th>\n",
       "      <th>Term</th>\n",
       "      <th>Credit_History</th>\n",
       "      <th>Area</th>\n",
       "      <th>Status</th>\n",
       "    </tr>\n",
       "  </thead>\n",
       "  <tbody>\n",
       "    <tr>\n",
       "      <th>580</th>\n",
       "      <td>Male</td>\n",
       "      <td>Yes</td>\n",
       "      <td>2</td>\n",
       "      <td>Graduate</td>\n",
       "      <td>No</td>\n",
       "      <td>654000</td>\n",
       "      <td>0.0</td>\n",
       "      <td>20500000</td>\n",
       "      <td>360.0</td>\n",
       "      <td>1.0</td>\n",
       "      <td>Semiurban</td>\n",
       "      <td>Y</td>\n",
       "    </tr>\n",
       "    <tr>\n",
       "      <th>347</th>\n",
       "      <td>Male</td>\n",
       "      <td>Yes</td>\n",
       "      <td>2</td>\n",
       "      <td>Not Graduate</td>\n",
       "      <td>No</td>\n",
       "      <td>308300</td>\n",
       "      <td>216800.0</td>\n",
       "      <td>12600000</td>\n",
       "      <td>360.0</td>\n",
       "      <td>1.0</td>\n",
       "      <td>Urban</td>\n",
       "      <td>Y</td>\n",
       "    </tr>\n",
       "    <tr>\n",
       "      <th>419</th>\n",
       "      <td>Male</td>\n",
       "      <td>Yes</td>\n",
       "      <td>0</td>\n",
       "      <td>Graduate</td>\n",
       "      <td>No</td>\n",
       "      <td>324600</td>\n",
       "      <td>141700.0</td>\n",
       "      <td>13800000</td>\n",
       "      <td>360.0</td>\n",
       "      <td>1.0</td>\n",
       "      <td>Semiurban</td>\n",
       "      <td>Y</td>\n",
       "    </tr>\n",
       "    <tr>\n",
       "      <th>579</th>\n",
       "      <td>Male</td>\n",
       "      <td>No</td>\n",
       "      <td>0</td>\n",
       "      <td>Graduate</td>\n",
       "      <td>NaN</td>\n",
       "      <td>318200</td>\n",
       "      <td>291700.0</td>\n",
       "      <td>16100000</td>\n",
       "      <td>360.0</td>\n",
       "      <td>1.0</td>\n",
       "      <td>Urban</td>\n",
       "      <td>Y</td>\n",
       "    </tr>\n",
       "    <tr>\n",
       "      <th>257</th>\n",
       "      <td>Male</td>\n",
       "      <td>Yes</td>\n",
       "      <td>3+</td>\n",
       "      <td>Graduate</td>\n",
       "      <td>No</td>\n",
       "      <td>525000</td>\n",
       "      <td>0.0</td>\n",
       "      <td>9400000</td>\n",
       "      <td>360.0</td>\n",
       "      <td>1.0</td>\n",
       "      <td>Urban</td>\n",
       "      <td>N</td>\n",
       "    </tr>\n",
       "  </tbody>\n",
       "</table>\n",
       "</div>"
      ],
      "text/plain": [
       "    Gender Married Dependents     Education Self_Employed  Applicant_Income  \\\n",
       "580   Male     Yes          2      Graduate            No            654000   \n",
       "347   Male     Yes          2  Not Graduate            No            308300   \n",
       "419   Male     Yes          0      Graduate            No            324600   \n",
       "579   Male      No          0      Graduate           NaN            318200   \n",
       "257   Male     Yes         3+      Graduate            No            525000   \n",
       "\n",
       "     Coapplicant_Income  Loan_Amount   Term  Credit_History       Area Status  \n",
       "580                 0.0     20500000  360.0             1.0  Semiurban      Y  \n",
       "347            216800.0     12600000  360.0             1.0      Urban      Y  \n",
       "419            141700.0     13800000  360.0             1.0  Semiurban      Y  \n",
       "579            291700.0     16100000  360.0             1.0      Urban      Y  \n",
       "257                 0.0      9400000  360.0             1.0      Urban      N  "
      ]
     },
     "execution_count": 5,
     "metadata": {},
     "output_type": "execute_result"
    }
   ],
   "source": [
    "train.sample(5)"
   ]
  },
  {
   "cell_type": "code",
   "execution_count": 6,
   "id": "cd596006",
   "metadata": {
    "execution": {
     "iopub.execute_input": "2023-03-15T07:20:19.698295Z",
     "iopub.status.busy": "2023-03-15T07:20:19.697150Z",
     "iopub.status.idle": "2023-03-15T07:20:19.720911Z",
     "shell.execute_reply": "2023-03-15T07:20:19.719888Z"
    },
    "papermill": {
     "duration": 0.039878,
     "end_time": "2023-03-15T07:20:19.723641",
     "exception": false,
     "start_time": "2023-03-15T07:20:19.683763",
     "status": "completed"
    },
    "tags": []
   },
   "outputs": [
    {
     "name": "stdout",
     "output_type": "stream",
     "text": [
      "<class 'pandas.core.frame.DataFrame'>\n",
      "RangeIndex: 614 entries, 0 to 613\n",
      "Data columns (total 12 columns):\n",
      " #   Column              Non-Null Count  Dtype  \n",
      "---  ------              --------------  -----  \n",
      " 0   Gender              601 non-null    object \n",
      " 1   Married             611 non-null    object \n",
      " 2   Dependents          599 non-null    object \n",
      " 3   Education           614 non-null    object \n",
      " 4   Self_Employed       582 non-null    object \n",
      " 5   Applicant_Income    614 non-null    int64  \n",
      " 6   Coapplicant_Income  614 non-null    float64\n",
      " 7   Loan_Amount         614 non-null    int64  \n",
      " 8   Term                600 non-null    float64\n",
      " 9   Credit_History      564 non-null    float64\n",
      " 10  Area                614 non-null    object \n",
      " 11  Status              614 non-null    object \n",
      "dtypes: float64(3), int64(2), object(7)\n",
      "memory usage: 57.7+ KB\n"
     ]
    }
   ],
   "source": [
    "train.info()"
   ]
  },
  {
   "cell_type": "code",
   "execution_count": 7,
   "id": "c1234602",
   "metadata": {
    "execution": {
     "iopub.execute_input": "2023-03-15T07:20:19.747419Z",
     "iopub.status.busy": "2023-03-15T07:20:19.746981Z",
     "iopub.status.idle": "2023-03-15T07:20:19.771147Z",
     "shell.execute_reply": "2023-03-15T07:20:19.769839Z"
    },
    "papermill": {
     "duration": 0.039347,
     "end_time": "2023-03-15T07:20:19.773854",
     "exception": false,
     "start_time": "2023-03-15T07:20:19.734507",
     "status": "completed"
    },
    "tags": []
   },
   "outputs": [
    {
     "data": {
      "text/html": [
       "<div>\n",
       "<style scoped>\n",
       "    .dataframe tbody tr th:only-of-type {\n",
       "        vertical-align: middle;\n",
       "    }\n",
       "\n",
       "    .dataframe tbody tr th {\n",
       "        vertical-align: top;\n",
       "    }\n",
       "\n",
       "    .dataframe thead th {\n",
       "        text-align: right;\n",
       "    }\n",
       "</style>\n",
       "<table border=\"1\" class=\"dataframe\">\n",
       "  <thead>\n",
       "    <tr style=\"text-align: right;\">\n",
       "      <th></th>\n",
       "      <th>Gender</th>\n",
       "      <th>Married</th>\n",
       "      <th>Dependents</th>\n",
       "      <th>Education</th>\n",
       "      <th>Self_Employed</th>\n",
       "      <th>Applicant_Income</th>\n",
       "      <th>Coapplicant_Income</th>\n",
       "      <th>Loan_Amount</th>\n",
       "      <th>Term</th>\n",
       "      <th>Credit_History</th>\n",
       "      <th>Area</th>\n",
       "      <th>Status</th>\n",
       "    </tr>\n",
       "  </thead>\n",
       "  <tbody>\n",
       "    <tr>\n",
       "      <th>0</th>\n",
       "      <td>False</td>\n",
       "      <td>False</td>\n",
       "      <td>False</td>\n",
       "      <td>False</td>\n",
       "      <td>False</td>\n",
       "      <td>False</td>\n",
       "      <td>False</td>\n",
       "      <td>False</td>\n",
       "      <td>False</td>\n",
       "      <td>False</td>\n",
       "      <td>False</td>\n",
       "      <td>False</td>\n",
       "    </tr>\n",
       "    <tr>\n",
       "      <th>1</th>\n",
       "      <td>False</td>\n",
       "      <td>False</td>\n",
       "      <td>False</td>\n",
       "      <td>False</td>\n",
       "      <td>False</td>\n",
       "      <td>False</td>\n",
       "      <td>False</td>\n",
       "      <td>False</td>\n",
       "      <td>False</td>\n",
       "      <td>False</td>\n",
       "      <td>False</td>\n",
       "      <td>False</td>\n",
       "    </tr>\n",
       "    <tr>\n",
       "      <th>2</th>\n",
       "      <td>False</td>\n",
       "      <td>False</td>\n",
       "      <td>False</td>\n",
       "      <td>False</td>\n",
       "      <td>False</td>\n",
       "      <td>False</td>\n",
       "      <td>False</td>\n",
       "      <td>False</td>\n",
       "      <td>False</td>\n",
       "      <td>False</td>\n",
       "      <td>False</td>\n",
       "      <td>False</td>\n",
       "    </tr>\n",
       "    <tr>\n",
       "      <th>3</th>\n",
       "      <td>False</td>\n",
       "      <td>False</td>\n",
       "      <td>False</td>\n",
       "      <td>False</td>\n",
       "      <td>False</td>\n",
       "      <td>False</td>\n",
       "      <td>False</td>\n",
       "      <td>False</td>\n",
       "      <td>False</td>\n",
       "      <td>False</td>\n",
       "      <td>False</td>\n",
       "      <td>False</td>\n",
       "    </tr>\n",
       "    <tr>\n",
       "      <th>4</th>\n",
       "      <td>False</td>\n",
       "      <td>False</td>\n",
       "      <td>False</td>\n",
       "      <td>False</td>\n",
       "      <td>False</td>\n",
       "      <td>False</td>\n",
       "      <td>False</td>\n",
       "      <td>False</td>\n",
       "      <td>False</td>\n",
       "      <td>False</td>\n",
       "      <td>False</td>\n",
       "      <td>False</td>\n",
       "    </tr>\n",
       "    <tr>\n",
       "      <th>...</th>\n",
       "      <td>...</td>\n",
       "      <td>...</td>\n",
       "      <td>...</td>\n",
       "      <td>...</td>\n",
       "      <td>...</td>\n",
       "      <td>...</td>\n",
       "      <td>...</td>\n",
       "      <td>...</td>\n",
       "      <td>...</td>\n",
       "      <td>...</td>\n",
       "      <td>...</td>\n",
       "      <td>...</td>\n",
       "    </tr>\n",
       "    <tr>\n",
       "      <th>609</th>\n",
       "      <td>False</td>\n",
       "      <td>False</td>\n",
       "      <td>False</td>\n",
       "      <td>False</td>\n",
       "      <td>False</td>\n",
       "      <td>False</td>\n",
       "      <td>False</td>\n",
       "      <td>False</td>\n",
       "      <td>False</td>\n",
       "      <td>False</td>\n",
       "      <td>False</td>\n",
       "      <td>False</td>\n",
       "    </tr>\n",
       "    <tr>\n",
       "      <th>610</th>\n",
       "      <td>False</td>\n",
       "      <td>False</td>\n",
       "      <td>False</td>\n",
       "      <td>False</td>\n",
       "      <td>False</td>\n",
       "      <td>False</td>\n",
       "      <td>False</td>\n",
       "      <td>False</td>\n",
       "      <td>False</td>\n",
       "      <td>False</td>\n",
       "      <td>False</td>\n",
       "      <td>False</td>\n",
       "    </tr>\n",
       "    <tr>\n",
       "      <th>611</th>\n",
       "      <td>False</td>\n",
       "      <td>False</td>\n",
       "      <td>False</td>\n",
       "      <td>False</td>\n",
       "      <td>False</td>\n",
       "      <td>False</td>\n",
       "      <td>False</td>\n",
       "      <td>False</td>\n",
       "      <td>False</td>\n",
       "      <td>False</td>\n",
       "      <td>False</td>\n",
       "      <td>False</td>\n",
       "    </tr>\n",
       "    <tr>\n",
       "      <th>612</th>\n",
       "      <td>False</td>\n",
       "      <td>False</td>\n",
       "      <td>False</td>\n",
       "      <td>False</td>\n",
       "      <td>False</td>\n",
       "      <td>False</td>\n",
       "      <td>False</td>\n",
       "      <td>False</td>\n",
       "      <td>False</td>\n",
       "      <td>False</td>\n",
       "      <td>False</td>\n",
       "      <td>False</td>\n",
       "    </tr>\n",
       "    <tr>\n",
       "      <th>613</th>\n",
       "      <td>False</td>\n",
       "      <td>False</td>\n",
       "      <td>False</td>\n",
       "      <td>False</td>\n",
       "      <td>False</td>\n",
       "      <td>False</td>\n",
       "      <td>False</td>\n",
       "      <td>False</td>\n",
       "      <td>False</td>\n",
       "      <td>False</td>\n",
       "      <td>False</td>\n",
       "      <td>False</td>\n",
       "    </tr>\n",
       "  </tbody>\n",
       "</table>\n",
       "<p>614 rows × 12 columns</p>\n",
       "</div>"
      ],
      "text/plain": [
       "     Gender  Married  Dependents  Education  Self_Employed  Applicant_Income  \\\n",
       "0     False    False       False      False          False             False   \n",
       "1     False    False       False      False          False             False   \n",
       "2     False    False       False      False          False             False   \n",
       "3     False    False       False      False          False             False   \n",
       "4     False    False       False      False          False             False   \n",
       "..      ...      ...         ...        ...            ...               ...   \n",
       "609   False    False       False      False          False             False   \n",
       "610   False    False       False      False          False             False   \n",
       "611   False    False       False      False          False             False   \n",
       "612   False    False       False      False          False             False   \n",
       "613   False    False       False      False          False             False   \n",
       "\n",
       "     Coapplicant_Income  Loan_Amount   Term  Credit_History   Area  Status  \n",
       "0                 False        False  False           False  False   False  \n",
       "1                 False        False  False           False  False   False  \n",
       "2                 False        False  False           False  False   False  \n",
       "3                 False        False  False           False  False   False  \n",
       "4                 False        False  False           False  False   False  \n",
       "..                  ...          ...    ...             ...    ...     ...  \n",
       "609               False        False  False           False  False   False  \n",
       "610               False        False  False           False  False   False  \n",
       "611               False        False  False           False  False   False  \n",
       "612               False        False  False           False  False   False  \n",
       "613               False        False  False           False  False   False  \n",
       "\n",
       "[614 rows x 12 columns]"
      ]
     },
     "execution_count": 7,
     "metadata": {},
     "output_type": "execute_result"
    }
   ],
   "source": [
    "train.isnull()"
   ]
  },
  {
   "cell_type": "code",
   "execution_count": 8,
   "id": "2cf6d8a8",
   "metadata": {
    "execution": {
     "iopub.execute_input": "2023-03-15T07:20:19.799144Z",
     "iopub.status.busy": "2023-03-15T07:20:19.798726Z",
     "iopub.status.idle": "2023-03-15T07:20:19.808124Z",
     "shell.execute_reply": "2023-03-15T07:20:19.807101Z"
    },
    "papermill": {
     "duration": 0.025068,
     "end_time": "2023-03-15T07:20:19.810663",
     "exception": false,
     "start_time": "2023-03-15T07:20:19.785595",
     "status": "completed"
    },
    "tags": []
   },
   "outputs": [
    {
     "data": {
      "text/plain": [
       "Gender                13\n",
       "Married                3\n",
       "Dependents            15\n",
       "Education              0\n",
       "Self_Employed         32\n",
       "Applicant_Income       0\n",
       "Coapplicant_Income     0\n",
       "Loan_Amount            0\n",
       "Term                  14\n",
       "Credit_History        50\n",
       "Area                   0\n",
       "Status                 0\n",
       "dtype: int64"
      ]
     },
     "execution_count": 8,
     "metadata": {},
     "output_type": "execute_result"
    }
   ],
   "source": [
    "train.isnull().sum()"
   ]
  },
  {
   "cell_type": "code",
   "execution_count": 9,
   "id": "92310d6a",
   "metadata": {
    "execution": {
     "iopub.execute_input": "2023-03-15T07:20:19.836454Z",
     "iopub.status.busy": "2023-03-15T07:20:19.835980Z",
     "iopub.status.idle": "2023-03-15T07:20:19.846081Z",
     "shell.execute_reply": "2023-03-15T07:20:19.844911Z"
    },
    "papermill": {
     "duration": 0.026115,
     "end_time": "2023-03-15T07:20:19.848669",
     "exception": false,
     "start_time": "2023-03-15T07:20:19.822554",
     "status": "completed"
    },
    "tags": []
   },
   "outputs": [
    {
     "data": {
      "text/plain": [
       "127"
      ]
     },
     "execution_count": 9,
     "metadata": {},
     "output_type": "execute_result"
    }
   ],
   "source": [
    "train.isnull().sum().sum()"
   ]
  },
  {
   "cell_type": "markdown",
   "id": "6c6f93e7",
   "metadata": {
    "papermill": {
     "duration": 0.011215,
     "end_time": "2023-03-15T07:20:19.871998",
     "exception": false,
     "start_time": "2023-03-15T07:20:19.860783",
     "status": "completed"
    },
    "tags": []
   },
   "source": [
    "0#FILLING NULL VALUES"
   ]
  },
  {
   "cell_type": "code",
   "execution_count": 10,
   "id": "d3cb11d8",
   "metadata": {
    "execution": {
     "iopub.execute_input": "2023-03-15T07:20:19.897209Z",
     "iopub.status.busy": "2023-03-15T07:20:19.896760Z",
     "iopub.status.idle": "2023-03-15T07:20:19.904133Z",
     "shell.execute_reply": "2023-03-15T07:20:19.902659Z"
    },
    "papermill": {
     "duration": 0.023419,
     "end_time": "2023-03-15T07:20:19.907123",
     "exception": false,
     "start_time": "2023-03-15T07:20:19.883704",
     "status": "completed"
    },
    "tags": []
   },
   "outputs": [],
   "source": [
    "train1=train.fillna(value=0)"
   ]
  },
  {
   "cell_type": "code",
   "execution_count": 11,
   "id": "ceecdca4",
   "metadata": {
    "execution": {
     "iopub.execute_input": "2023-03-15T07:20:19.933565Z",
     "iopub.status.busy": "2023-03-15T07:20:19.932197Z",
     "iopub.status.idle": "2023-03-15T07:20:19.963590Z",
     "shell.execute_reply": "2023-03-15T07:20:19.962083Z"
    },
    "papermill": {
     "duration": 0.047729,
     "end_time": "2023-03-15T07:20:19.966624",
     "exception": false,
     "start_time": "2023-03-15T07:20:19.918895",
     "status": "completed"
    },
    "tags": []
   },
   "outputs": [
    {
     "data": {
      "text/html": [
       "<div>\n",
       "<style scoped>\n",
       "    .dataframe tbody tr th:only-of-type {\n",
       "        vertical-align: middle;\n",
       "    }\n",
       "\n",
       "    .dataframe tbody tr th {\n",
       "        vertical-align: top;\n",
       "    }\n",
       "\n",
       "    .dataframe thead th {\n",
       "        text-align: right;\n",
       "    }\n",
       "</style>\n",
       "<table border=\"1\" class=\"dataframe\">\n",
       "  <thead>\n",
       "    <tr style=\"text-align: right;\">\n",
       "      <th></th>\n",
       "      <th>Gender</th>\n",
       "      <th>Married</th>\n",
       "      <th>Dependents</th>\n",
       "      <th>Education</th>\n",
       "      <th>Self_Employed</th>\n",
       "      <th>Applicant_Income</th>\n",
       "      <th>Coapplicant_Income</th>\n",
       "      <th>Loan_Amount</th>\n",
       "      <th>Term</th>\n",
       "      <th>Credit_History</th>\n",
       "      <th>Area</th>\n",
       "      <th>Status</th>\n",
       "    </tr>\n",
       "  </thead>\n",
       "  <tbody>\n",
       "    <tr>\n",
       "      <th>0</th>\n",
       "      <td>Male</td>\n",
       "      <td>No</td>\n",
       "      <td>0</td>\n",
       "      <td>Graduate</td>\n",
       "      <td>No</td>\n",
       "      <td>584900</td>\n",
       "      <td>0.0</td>\n",
       "      <td>15000000</td>\n",
       "      <td>360.0</td>\n",
       "      <td>1.0</td>\n",
       "      <td>Urban</td>\n",
       "      <td>Y</td>\n",
       "    </tr>\n",
       "    <tr>\n",
       "      <th>1</th>\n",
       "      <td>Male</td>\n",
       "      <td>Yes</td>\n",
       "      <td>1</td>\n",
       "      <td>Graduate</td>\n",
       "      <td>No</td>\n",
       "      <td>458300</td>\n",
       "      <td>150800.0</td>\n",
       "      <td>12800000</td>\n",
       "      <td>360.0</td>\n",
       "      <td>1.0</td>\n",
       "      <td>Rural</td>\n",
       "      <td>N</td>\n",
       "    </tr>\n",
       "    <tr>\n",
       "      <th>2</th>\n",
       "      <td>Male</td>\n",
       "      <td>Yes</td>\n",
       "      <td>0</td>\n",
       "      <td>Graduate</td>\n",
       "      <td>Yes</td>\n",
       "      <td>300000</td>\n",
       "      <td>0.0</td>\n",
       "      <td>6600000</td>\n",
       "      <td>360.0</td>\n",
       "      <td>1.0</td>\n",
       "      <td>Urban</td>\n",
       "      <td>Y</td>\n",
       "    </tr>\n",
       "    <tr>\n",
       "      <th>3</th>\n",
       "      <td>Male</td>\n",
       "      <td>Yes</td>\n",
       "      <td>0</td>\n",
       "      <td>Not Graduate</td>\n",
       "      <td>No</td>\n",
       "      <td>258300</td>\n",
       "      <td>235800.0</td>\n",
       "      <td>12000000</td>\n",
       "      <td>360.0</td>\n",
       "      <td>1.0</td>\n",
       "      <td>Urban</td>\n",
       "      <td>Y</td>\n",
       "    </tr>\n",
       "    <tr>\n",
       "      <th>4</th>\n",
       "      <td>Male</td>\n",
       "      <td>No</td>\n",
       "      <td>0</td>\n",
       "      <td>Graduate</td>\n",
       "      <td>No</td>\n",
       "      <td>600000</td>\n",
       "      <td>0.0</td>\n",
       "      <td>14100000</td>\n",
       "      <td>360.0</td>\n",
       "      <td>1.0</td>\n",
       "      <td>Urban</td>\n",
       "      <td>Y</td>\n",
       "    </tr>\n",
       "    <tr>\n",
       "      <th>...</th>\n",
       "      <td>...</td>\n",
       "      <td>...</td>\n",
       "      <td>...</td>\n",
       "      <td>...</td>\n",
       "      <td>...</td>\n",
       "      <td>...</td>\n",
       "      <td>...</td>\n",
       "      <td>...</td>\n",
       "      <td>...</td>\n",
       "      <td>...</td>\n",
       "      <td>...</td>\n",
       "      <td>...</td>\n",
       "    </tr>\n",
       "    <tr>\n",
       "      <th>609</th>\n",
       "      <td>Female</td>\n",
       "      <td>No</td>\n",
       "      <td>0</td>\n",
       "      <td>Graduate</td>\n",
       "      <td>No</td>\n",
       "      <td>290000</td>\n",
       "      <td>0.0</td>\n",
       "      <td>7100000</td>\n",
       "      <td>360.0</td>\n",
       "      <td>1.0</td>\n",
       "      <td>Rural</td>\n",
       "      <td>Y</td>\n",
       "    </tr>\n",
       "    <tr>\n",
       "      <th>610</th>\n",
       "      <td>Male</td>\n",
       "      <td>Yes</td>\n",
       "      <td>3+</td>\n",
       "      <td>Graduate</td>\n",
       "      <td>No</td>\n",
       "      <td>410600</td>\n",
       "      <td>0.0</td>\n",
       "      <td>4000000</td>\n",
       "      <td>180.0</td>\n",
       "      <td>1.0</td>\n",
       "      <td>Rural</td>\n",
       "      <td>Y</td>\n",
       "    </tr>\n",
       "    <tr>\n",
       "      <th>611</th>\n",
       "      <td>Male</td>\n",
       "      <td>Yes</td>\n",
       "      <td>1</td>\n",
       "      <td>Graduate</td>\n",
       "      <td>No</td>\n",
       "      <td>807200</td>\n",
       "      <td>24000.0</td>\n",
       "      <td>25300000</td>\n",
       "      <td>360.0</td>\n",
       "      <td>1.0</td>\n",
       "      <td>Urban</td>\n",
       "      <td>Y</td>\n",
       "    </tr>\n",
       "    <tr>\n",
       "      <th>612</th>\n",
       "      <td>Male</td>\n",
       "      <td>Yes</td>\n",
       "      <td>2</td>\n",
       "      <td>Graduate</td>\n",
       "      <td>No</td>\n",
       "      <td>758300</td>\n",
       "      <td>0.0</td>\n",
       "      <td>18700000</td>\n",
       "      <td>360.0</td>\n",
       "      <td>1.0</td>\n",
       "      <td>Urban</td>\n",
       "      <td>Y</td>\n",
       "    </tr>\n",
       "    <tr>\n",
       "      <th>613</th>\n",
       "      <td>Female</td>\n",
       "      <td>No</td>\n",
       "      <td>0</td>\n",
       "      <td>Graduate</td>\n",
       "      <td>Yes</td>\n",
       "      <td>458300</td>\n",
       "      <td>0.0</td>\n",
       "      <td>13300000</td>\n",
       "      <td>360.0</td>\n",
       "      <td>0.0</td>\n",
       "      <td>Semiurban</td>\n",
       "      <td>N</td>\n",
       "    </tr>\n",
       "  </tbody>\n",
       "</table>\n",
       "<p>614 rows × 12 columns</p>\n",
       "</div>"
      ],
      "text/plain": [
       "     Gender Married Dependents     Education Self_Employed  Applicant_Income  \\\n",
       "0      Male      No          0      Graduate            No            584900   \n",
       "1      Male     Yes          1      Graduate            No            458300   \n",
       "2      Male     Yes          0      Graduate           Yes            300000   \n",
       "3      Male     Yes          0  Not Graduate            No            258300   \n",
       "4      Male      No          0      Graduate            No            600000   \n",
       "..      ...     ...        ...           ...           ...               ...   \n",
       "609  Female      No          0      Graduate            No            290000   \n",
       "610    Male     Yes         3+      Graduate            No            410600   \n",
       "611    Male     Yes          1      Graduate            No            807200   \n",
       "612    Male     Yes          2      Graduate            No            758300   \n",
       "613  Female      No          0      Graduate           Yes            458300   \n",
       "\n",
       "     Coapplicant_Income  Loan_Amount   Term  Credit_History       Area Status  \n",
       "0                   0.0     15000000  360.0             1.0      Urban      Y  \n",
       "1              150800.0     12800000  360.0             1.0      Rural      N  \n",
       "2                   0.0      6600000  360.0             1.0      Urban      Y  \n",
       "3              235800.0     12000000  360.0             1.0      Urban      Y  \n",
       "4                   0.0     14100000  360.0             1.0      Urban      Y  \n",
       "..                  ...          ...    ...             ...        ...    ...  \n",
       "609                 0.0      7100000  360.0             1.0      Rural      Y  \n",
       "610                 0.0      4000000  180.0             1.0      Rural      Y  \n",
       "611             24000.0     25300000  360.0             1.0      Urban      Y  \n",
       "612                 0.0     18700000  360.0             1.0      Urban      Y  \n",
       "613                 0.0     13300000  360.0             0.0  Semiurban      N  \n",
       "\n",
       "[614 rows x 12 columns]"
      ]
     },
     "execution_count": 11,
     "metadata": {},
     "output_type": "execute_result"
    }
   ],
   "source": [
    "train1"
   ]
  },
  {
   "cell_type": "code",
   "execution_count": 12,
   "id": "adbbcc2e",
   "metadata": {
    "execution": {
     "iopub.execute_input": "2023-03-15T07:20:19.993210Z",
     "iopub.status.busy": "2023-03-15T07:20:19.992790Z",
     "iopub.status.idle": "2023-03-15T07:20:20.004773Z",
     "shell.execute_reply": "2023-03-15T07:20:20.003568Z"
    },
    "papermill": {
     "duration": 0.0283,
     "end_time": "2023-03-15T07:20:20.007369",
     "exception": false,
     "start_time": "2023-03-15T07:20:19.979069",
     "status": "completed"
    },
    "tags": []
   },
   "outputs": [
    {
     "data": {
      "text/plain": [
       "0"
      ]
     },
     "execution_count": 12,
     "metadata": {},
     "output_type": "execute_result"
    }
   ],
   "source": [
    "train1.isnull().sum().sum()"
   ]
  },
  {
   "cell_type": "code",
   "execution_count": 13,
   "id": "c07e9a07",
   "metadata": {
    "execution": {
     "iopub.execute_input": "2023-03-15T07:20:20.033951Z",
     "iopub.status.busy": "2023-03-15T07:20:20.033493Z",
     "iopub.status.idle": "2023-03-15T07:20:20.051053Z",
     "shell.execute_reply": "2023-03-15T07:20:20.049347Z"
    },
    "papermill": {
     "duration": 0.034751,
     "end_time": "2023-03-15T07:20:20.054659",
     "exception": false,
     "start_time": "2023-03-15T07:20:20.019908",
     "status": "completed"
    },
    "tags": []
   },
   "outputs": [
    {
     "name": "stdout",
     "output_type": "stream",
     "text": [
      "<class 'pandas.core.frame.DataFrame'>\n",
      "RangeIndex: 614 entries, 0 to 613\n",
      "Data columns (total 12 columns):\n",
      " #   Column              Non-Null Count  Dtype  \n",
      "---  ------              --------------  -----  \n",
      " 0   Gender              614 non-null    object \n",
      " 1   Married             614 non-null    object \n",
      " 2   Dependents          614 non-null    object \n",
      " 3   Education           614 non-null    object \n",
      " 4   Self_Employed       614 non-null    object \n",
      " 5   Applicant_Income    614 non-null    int64  \n",
      " 6   Coapplicant_Income  614 non-null    float64\n",
      " 7   Loan_Amount         614 non-null    int64  \n",
      " 8   Term                614 non-null    float64\n",
      " 9   Credit_History      614 non-null    float64\n",
      " 10  Area                614 non-null    object \n",
      " 11  Status              614 non-null    object \n",
      "dtypes: float64(3), int64(2), object(7)\n",
      "memory usage: 57.7+ KB\n"
     ]
    }
   ],
   "source": [
    "train1.info()"
   ]
  },
  {
   "cell_type": "code",
   "execution_count": 14,
   "id": "b6fa0f69",
   "metadata": {
    "execution": {
     "iopub.execute_input": "2023-03-15T07:20:20.081589Z",
     "iopub.status.busy": "2023-03-15T07:20:20.081172Z",
     "iopub.status.idle": "2023-03-15T07:20:20.113114Z",
     "shell.execute_reply": "2023-03-15T07:20:20.111590Z"
    },
    "papermill": {
     "duration": 0.048506,
     "end_time": "2023-03-15T07:20:20.115778",
     "exception": false,
     "start_time": "2023-03-15T07:20:20.067272",
     "status": "completed"
    },
    "tags": []
   },
   "outputs": [
    {
     "data": {
      "text/html": [
       "<div>\n",
       "<style scoped>\n",
       "    .dataframe tbody tr th:only-of-type {\n",
       "        vertical-align: middle;\n",
       "    }\n",
       "\n",
       "    .dataframe tbody tr th {\n",
       "        vertical-align: top;\n",
       "    }\n",
       "\n",
       "    .dataframe thead th {\n",
       "        text-align: right;\n",
       "    }\n",
       "</style>\n",
       "<table border=\"1\" class=\"dataframe\">\n",
       "  <thead>\n",
       "    <tr style=\"text-align: right;\">\n",
       "      <th></th>\n",
       "      <th>Applicant_Income</th>\n",
       "      <th>Coapplicant_Income</th>\n",
       "      <th>Loan_Amount</th>\n",
       "      <th>Term</th>\n",
       "      <th>Credit_History</th>\n",
       "    </tr>\n",
       "  </thead>\n",
       "  <tbody>\n",
       "    <tr>\n",
       "      <th>count</th>\n",
       "      <td>6.140000e+02</td>\n",
       "      <td>6.140000e+02</td>\n",
       "      <td>6.140000e+02</td>\n",
       "      <td>614.000000</td>\n",
       "      <td>614.000000</td>\n",
       "    </tr>\n",
       "    <tr>\n",
       "      <th>mean</th>\n",
       "      <td>5.403459e+05</td>\n",
       "      <td>1.621246e+05</td>\n",
       "      <td>1.414104e+07</td>\n",
       "      <td>334.201954</td>\n",
       "      <td>0.773616</td>\n",
       "    </tr>\n",
       "    <tr>\n",
       "      <th>std</th>\n",
       "      <td>6.109042e+05</td>\n",
       "      <td>2.926248e+05</td>\n",
       "      <td>8.815682e+06</td>\n",
       "      <td>82.183884</td>\n",
       "      <td>0.418832</td>\n",
       "    </tr>\n",
       "    <tr>\n",
       "      <th>min</th>\n",
       "      <td>1.500000e+04</td>\n",
       "      <td>0.000000e+00</td>\n",
       "      <td>0.000000e+00</td>\n",
       "      <td>0.000000</td>\n",
       "      <td>0.000000</td>\n",
       "    </tr>\n",
       "    <tr>\n",
       "      <th>25%</th>\n",
       "      <td>2.877500e+05</td>\n",
       "      <td>0.000000e+00</td>\n",
       "      <td>9.800000e+06</td>\n",
       "      <td>360.000000</td>\n",
       "      <td>1.000000</td>\n",
       "    </tr>\n",
       "    <tr>\n",
       "      <th>50%</th>\n",
       "      <td>3.812500e+05</td>\n",
       "      <td>1.188500e+05</td>\n",
       "      <td>1.250000e+07</td>\n",
       "      <td>360.000000</td>\n",
       "      <td>1.000000</td>\n",
       "    </tr>\n",
       "    <tr>\n",
       "      <th>75%</th>\n",
       "      <td>5.795000e+05</td>\n",
       "      <td>2.297250e+05</td>\n",
       "      <td>1.647500e+07</td>\n",
       "      <td>360.000000</td>\n",
       "      <td>1.000000</td>\n",
       "    </tr>\n",
       "    <tr>\n",
       "      <th>max</th>\n",
       "      <td>8.100000e+06</td>\n",
       "      <td>4.166700e+06</td>\n",
       "      <td>7.000000e+07</td>\n",
       "      <td>480.000000</td>\n",
       "      <td>1.000000</td>\n",
       "    </tr>\n",
       "  </tbody>\n",
       "</table>\n",
       "</div>"
      ],
      "text/plain": [
       "       Applicant_Income  Coapplicant_Income   Loan_Amount        Term  \\\n",
       "count      6.140000e+02        6.140000e+02  6.140000e+02  614.000000   \n",
       "mean       5.403459e+05        1.621246e+05  1.414104e+07  334.201954   \n",
       "std        6.109042e+05        2.926248e+05  8.815682e+06   82.183884   \n",
       "min        1.500000e+04        0.000000e+00  0.000000e+00    0.000000   \n",
       "25%        2.877500e+05        0.000000e+00  9.800000e+06  360.000000   \n",
       "50%        3.812500e+05        1.188500e+05  1.250000e+07  360.000000   \n",
       "75%        5.795000e+05        2.297250e+05  1.647500e+07  360.000000   \n",
       "max        8.100000e+06        4.166700e+06  7.000000e+07  480.000000   \n",
       "\n",
       "       Credit_History  \n",
       "count      614.000000  \n",
       "mean         0.773616  \n",
       "std          0.418832  \n",
       "min          0.000000  \n",
       "25%          1.000000  \n",
       "50%          1.000000  \n",
       "75%          1.000000  \n",
       "max          1.000000  "
      ]
     },
     "execution_count": 14,
     "metadata": {},
     "output_type": "execute_result"
    }
   ],
   "source": [
    "train1.describe()"
   ]
  },
  {
   "cell_type": "markdown",
   "id": "b6775c2e",
   "metadata": {
    "papermill": {
     "duration": 0.012686,
     "end_time": "2023-03-15T07:20:20.141318",
     "exception": false,
     "start_time": "2023-03-15T07:20:20.128632",
     "status": "completed"
    },
    "tags": []
   },
   "source": [
    "#DATA WRANGLING/DATA CLEANING"
   ]
  },
  {
   "cell_type": "code",
   "execution_count": 15,
   "id": "020958b7",
   "metadata": {
    "execution": {
     "iopub.execute_input": "2023-03-15T07:20:20.167852Z",
     "iopub.status.busy": "2023-03-15T07:20:20.167422Z",
     "iopub.status.idle": "2023-03-15T07:20:20.173506Z",
     "shell.execute_reply": "2023-03-15T07:20:20.172180Z"
    },
    "papermill": {
     "duration": 0.022734,
     "end_time": "2023-03-15T07:20:20.176318",
     "exception": false,
     "start_time": "2023-03-15T07:20:20.153584",
     "status": "completed"
    },
    "tags": []
   },
   "outputs": [
    {
     "name": "stdout",
     "output_type": "stream",
     "text": [
      "Gender\n",
      "Married\n",
      "Dependents\n",
      "Education\n",
      "Self_Employed\n",
      "Applicant_Income\n",
      "Coapplicant_Income\n",
      "Loan_Amount\n",
      "Term\n",
      "Credit_History\n",
      "Area\n",
      "Status\n"
     ]
    }
   ],
   "source": [
    "for col in train1.columns:\n",
    "    print(col)"
   ]
  },
  {
   "cell_type": "code",
   "execution_count": 16,
   "id": "6dab24b7",
   "metadata": {
    "execution": {
     "iopub.execute_input": "2023-03-15T07:20:20.204085Z",
     "iopub.status.busy": "2023-03-15T07:20:20.202651Z",
     "iopub.status.idle": "2023-03-15T07:20:20.227646Z",
     "shell.execute_reply": "2023-03-15T07:20:20.225925Z"
    },
    "papermill": {
     "duration": 0.041957,
     "end_time": "2023-03-15T07:20:20.230583",
     "exception": false,
     "start_time": "2023-03-15T07:20:20.188626",
     "status": "completed"
    },
    "tags": []
   },
   "outputs": [
    {
     "name": "stdout",
     "output_type": "stream",
     "text": [
      "Gender\n",
      "================================\n",
      "Male      489\n",
      "Female    112\n",
      "0          13\n",
      "Name: Gender, dtype: int64\n",
      "Married\n",
      "================================\n",
      "Yes    398\n",
      "No     213\n",
      "0        3\n",
      "Name: Married, dtype: int64\n",
      "Dependents\n",
      "================================\n",
      "0     345\n",
      "1     102\n",
      "2     101\n",
      "3+     51\n",
      "0      15\n",
      "Name: Dependents, dtype: int64\n",
      "Education\n",
      "================================\n",
      "Graduate        480\n",
      "Not Graduate    134\n",
      "Name: Education, dtype: int64\n",
      "Self_Employed\n",
      "================================\n",
      "No     500\n",
      "Yes     82\n",
      "0       32\n",
      "Name: Self_Employed, dtype: int64\n",
      "Applicant_Income\n",
      "================================\n",
      "250000    9\n",
      "458300    6\n",
      "600000    6\n",
      "260000    6\n",
      "333300    5\n",
      "         ..\n",
      "324400    1\n",
      "440800    1\n",
      "391700    1\n",
      "399200    1\n",
      "758300    1\n",
      "Name: Applicant_Income, Length: 505, dtype: int64\n",
      "Coapplicant_Income\n",
      "================================\n",
      "0.0         273\n",
      "250000.0      5\n",
      "208300.0      5\n",
      "166600.0      5\n",
      "225000.0      3\n",
      "           ... \n",
      "279100.0      1\n",
      "101000.0      1\n",
      "169500.0      1\n",
      "259800.0      1\n",
      "24000.0       1\n",
      "Name: Coapplicant_Income, Length: 287, dtype: int64\n",
      "Loan_Amount\n",
      "================================\n",
      "0           21\n",
      "12000000    20\n",
      "11000000    17\n",
      "10000000    15\n",
      "16000000    12\n",
      "            ..\n",
      "19100000     1\n",
      "3500000      1\n",
      "28000000     1\n",
      "4200000      1\n",
      "25300000     1\n",
      "Name: Loan_Amount, Length: 204, dtype: int64\n",
      "Term\n",
      "================================\n",
      "360.0    512\n",
      "180.0     44\n",
      "480.0     15\n",
      "0.0       14\n",
      "300.0     13\n",
      "240.0      4\n",
      "84.0       4\n",
      "120.0      3\n",
      "60.0       2\n",
      "36.0       2\n",
      "12.0       1\n",
      "Name: Term, dtype: int64\n",
      "Credit_History\n",
      "================================\n",
      "1.0    475\n",
      "0.0    139\n",
      "Name: Credit_History, dtype: int64\n",
      "Area\n",
      "================================\n",
      "Semiurban    233\n",
      "Urban        202\n",
      "Rural        179\n",
      "Name: Area, dtype: int64\n",
      "Status\n",
      "================================\n",
      "Y    422\n",
      "N    192\n",
      "Name: Status, dtype: int64\n"
     ]
    }
   ],
   "source": [
    "for col in train1.columns:\n",
    "    print(col)\n",
    "    print(\"================================\")\n",
    "    print(train1[col].value_counts())"
   ]
  },
  {
   "cell_type": "markdown",
   "id": "e5069ab0",
   "metadata": {
    "papermill": {
     "duration": 0.012311,
     "end_time": "2023-03-15T07:20:20.256031",
     "exception": false,
     "start_time": "2023-03-15T07:20:20.243720",
     "status": "completed"
    },
    "tags": []
   },
   "source": [
    "#EDA "
   ]
  },
  {
   "cell_type": "code",
   "execution_count": 17,
   "id": "1af30d48",
   "metadata": {
    "execution": {
     "iopub.execute_input": "2023-03-15T07:20:20.283490Z",
     "iopub.status.busy": "2023-03-15T07:20:20.283043Z",
     "iopub.status.idle": "2023-03-15T07:20:20.290510Z",
     "shell.execute_reply": "2023-03-15T07:20:20.289108Z"
    },
    "papermill": {
     "duration": 0.024573,
     "end_time": "2023-03-15T07:20:20.293195",
     "exception": false,
     "start_time": "2023-03-15T07:20:20.268622",
     "status": "completed"
    },
    "tags": []
   },
   "outputs": [
    {
     "data": {
      "text/plain": [
       "(614, 12)"
      ]
     },
     "execution_count": 17,
     "metadata": {},
     "output_type": "execute_result"
    }
   ],
   "source": [
    "train1.shape"
   ]
  },
  {
   "cell_type": "markdown",
   "id": "96ae33ca",
   "metadata": {
    "papermill": {
     "duration": 0.012324,
     "end_time": "2023-03-15T07:20:20.318131",
     "exception": false,
     "start_time": "2023-03-15T07:20:20.305807",
     "status": "completed"
    },
    "tags": []
   },
   "source": [
    "# Univariant analysis"
   ]
  },
  {
   "cell_type": "code",
   "execution_count": 18,
   "id": "8f44711b",
   "metadata": {
    "execution": {
     "iopub.execute_input": "2023-03-15T07:20:20.345888Z",
     "iopub.status.busy": "2023-03-15T07:20:20.344968Z",
     "iopub.status.idle": "2023-03-15T07:20:20.593134Z",
     "shell.execute_reply": "2023-03-15T07:20:20.591659Z"
    },
    "papermill": {
     "duration": 0.265462,
     "end_time": "2023-03-15T07:20:20.596193",
     "exception": false,
     "start_time": "2023-03-15T07:20:20.330731",
     "status": "completed"
    },
    "tags": []
   },
   "outputs": [
    {
     "data": {
      "text/plain": [
       "<AxesSubplot:>"
      ]
     },
     "execution_count": 18,
     "metadata": {},
     "output_type": "execute_result"
    },
    {
     "data": {
      "image/png": "[encoded data removed]",
      "text/plain": [
       "<Figure size 640x480 with 1 Axes>"
      ]
     },
     "metadata": {},
     "output_type": "display_data"
    }
   ],
   "source": [
    "sns.boxplot(train1['Applicant_Income'])"
   ]
  },
  {
   "cell_type": "code",
   "execution_count": 19,
   "id": "afeb51e1",
   "metadata": {
    "execution": {
     "iopub.execute_input": "2023-03-15T07:20:20.624631Z",
     "iopub.status.busy": "2023-03-15T07:20:20.623492Z",
     "iopub.status.idle": "2023-03-15T07:20:20.895746Z",
     "shell.execute_reply": "2023-03-15T07:20:20.894796Z"
    },
    "papermill": {
     "duration": 0.289076,
     "end_time": "2023-03-15T07:20:20.898182",
     "exception": false,
     "start_time": "2023-03-15T07:20:20.609106",
     "status": "completed"
    },
    "tags": []
   },
   "outputs": [
    {
     "data": {
      "text/plain": [
       "<AxesSubplot:xlabel='Term', ylabel='Count'>"
      ]
     },
     "execution_count": 19,
     "metadata": {},
     "output_type": "execute_result"
    },
    {
     "data": {
      "image/png": "[encoded data removed]",
      "text/plain": [
       "<Figure size 640x480 with 1 Axes>"
      ]
     },
     "metadata": {},
     "output_type": "display_data"
    }
   ],
   "source": [
    "sns.histplot(train1['Term'])"
   ]
  },
  {
   "cell_type": "code",
   "execution_count": 20,
   "id": "e2b6ec01",
   "metadata": {
    "execution": {
     "iopub.execute_input": "2023-03-15T07:20:20.928412Z",
     "iopub.status.busy": "2023-03-15T07:20:20.927284Z",
     "iopub.status.idle": "2023-03-15T07:20:21.259225Z",
     "shell.execute_reply": "2023-03-15T07:20:21.258347Z"
    },
    "papermill": {
     "duration": 0.349404,
     "end_time": "2023-03-15T07:20:21.261731",
     "exception": false,
     "start_time": "2023-03-15T07:20:20.912327",
     "status": "completed"
    },
    "tags": []
   },
   "outputs": [
    {
     "data": {
      "text/plain": [
       "<AxesSubplot:xlabel='Loan_Amount', ylabel='Count'>"
      ]
     },
     "execution_count": 20,
     "metadata": {},
     "output_type": "execute_result"
    },
    {
     "data": {
      "image/png": "[encoded data removed]",
      "text/plain": [
       "<Figure size 640x480 with 1 Axes>"
      ]
     },
     "metadata": {},
     "output_type": "display_data"
    }
   ],
   "source": [
    "\n",
    "sns.histplot(train1['Loan_Amount'])"
   ]
  },
  {
   "cell_type": "code",
   "execution_count": 21,
   "id": "668c8bdc",
   "metadata": {
    "execution": {
     "iopub.execute_input": "2023-03-15T07:20:21.292499Z",
     "iopub.status.busy": "2023-03-15T07:20:21.291327Z",
     "iopub.status.idle": "2023-03-15T07:20:21.555275Z",
     "shell.execute_reply": "2023-03-15T07:20:21.554336Z"
    },
    "papermill": {
     "duration": 0.281701,
     "end_time": "2023-03-15T07:20:21.557995",
     "exception": false,
     "start_time": "2023-03-15T07:20:21.276294",
     "status": "completed"
    },
    "tags": []
   },
   "outputs": [
    {
     "data": {
      "text/plain": [
       "<AxesSubplot:xlabel='Loan_Amount', ylabel='Density'>"
      ]
     },
     "execution_count": 21,
     "metadata": {},
     "output_type": "execute_result"
    },
    {
     "data": {
      "image/png": "[encoded data removed]",
      "text/plain": [
       "<Figure size 640x480 with 1 Axes>"
      ]
     },
     "metadata": {},
     "output_type": "display_data"
    }
   ],
   "source": [
    "sns.kdeplot(train1['Loan_Amount'])"
   ]
  },
  {
   "cell_type": "markdown",
   "id": "dc82f748",
   "metadata": {
    "papermill": {
     "duration": 0.013844,
     "end_time": "2023-03-15T07:20:21.586165",
     "exception": false,
     "start_time": "2023-03-15T07:20:21.572321",
     "status": "completed"
    },
    "tags": []
   },
   "source": [
    "# VISUALIZATION"
   ]
  },
  {
   "cell_type": "code",
   "execution_count": 22,
   "id": "3ed9fbb0",
   "metadata": {
    "execution": {
     "iopub.execute_input": "2023-03-15T07:20:21.616611Z",
     "iopub.status.busy": "2023-03-15T07:20:21.616174Z",
     "iopub.status.idle": "2023-03-15T07:20:21.830720Z",
     "shell.execute_reply": "2023-03-15T07:20:21.829420Z"
    },
    "papermill": {
     "duration": 0.233199,
     "end_time": "2023-03-15T07:20:21.833743",
     "exception": false,
     "start_time": "2023-03-15T07:20:21.600544",
     "status": "completed"
    },
    "tags": []
   },
   "outputs": [
    {
     "data": {
      "text/plain": [
       "<AxesSubplot:xlabel='Self_Employed', ylabel='count'>"
      ]
     },
     "execution_count": 22,
     "metadata": {},
     "output_type": "execute_result"
    },
    {
     "data": {
      "image/png": "[encoded data removed]",
      "text/plain": [
       "<Figure size 640x480 with 1 Axes>"
      ]
     },
     "metadata": {},
     "output_type": "display_data"
    }
   ],
   "source": [
    "sns.countplot(x='Self_Employed',data=train1)"
   ]
  },
  {
   "cell_type": "code",
   "execution_count": 23,
   "id": "d63c1be4",
   "metadata": {
    "execution": {
     "iopub.execute_input": "2023-03-15T07:20:21.865897Z",
     "iopub.status.busy": "2023-03-15T07:20:21.865476Z",
     "iopub.status.idle": "2023-03-15T07:20:22.074374Z",
     "shell.execute_reply": "2023-03-15T07:20:22.073346Z"
    },
    "papermill": {
     "duration": 0.227959,
     "end_time": "2023-03-15T07:20:22.076982",
     "exception": false,
     "start_time": "2023-03-15T07:20:21.849023",
     "status": "completed"
    },
    "tags": []
   },
   "outputs": [
    {
     "data": {
      "text/plain": [
       "<AxesSubplot:xlabel='Gender', ylabel='count'>"
      ]
     },
     "execution_count": 23,
     "metadata": {},
     "output_type": "execute_result"
    },
    {
     "data": {
      "image/png": "[encoded data removed]",
      "text/plain": [
       "<Figure size 640x480 with 1 Axes>"
      ]
     },
     "metadata": {},
     "output_type": "display_data"
    }
   ],
   "source": [
    "sns.countplot(x='Gender',data=train1)"
   ]
  },
  {
   "cell_type": "code",
   "execution_count": 24,
   "id": "56fdeb84",
   "metadata": {
    "execution": {
     "iopub.execute_input": "2023-03-15T07:20:22.110416Z",
     "iopub.status.busy": "2023-03-15T07:20:22.109930Z",
     "iopub.status.idle": "2023-03-15T07:20:22.342876Z",
     "shell.execute_reply": "2023-03-15T07:20:22.341832Z"
    },
    "papermill": {
     "duration": 0.252847,
     "end_time": "2023-03-15T07:20:22.345530",
     "exception": false,
     "start_time": "2023-03-15T07:20:22.092683",
     "status": "completed"
    },
    "tags": []
   },
   "outputs": [
    {
     "data": {
      "text/plain": [
       "<AxesSubplot:xlabel='Dependents', ylabel='count'>"
      ]
     },
     "execution_count": 24,
     "metadata": {},
     "output_type": "execute_result"
    },
    {
     "data": {
      "image/png": "[encoded data removed]",
      "text/plain": [
       "<Figure size 640x480 with 1 Axes>"
      ]
     },
     "metadata": {},
     "output_type": "display_data"
    }
   ],
   "source": [
    "sns.countplot(x='Dependents',data=train1)"
   ]
  },
  {
   "cell_type": "code",
   "execution_count": 25,
   "id": "2e2c2c4b",
   "metadata": {
    "execution": {
     "iopub.execute_input": "2023-03-15T07:20:22.380077Z",
     "iopub.status.busy": "2023-03-15T07:20:22.379281Z",
     "iopub.status.idle": "2023-03-15T07:20:22.588160Z",
     "shell.execute_reply": "2023-03-15T07:20:22.587047Z"
    },
    "papermill": {
     "duration": 0.229413,
     "end_time": "2023-03-15T07:20:22.590807",
     "exception": false,
     "start_time": "2023-03-15T07:20:22.361394",
     "status": "completed"
    },
    "tags": []
   },
   "outputs": [
    {
     "data": {
      "text/plain": [
       "<AxesSubplot:xlabel='Education', ylabel='count'>"
      ]
     },
     "execution_count": 25,
     "metadata": {},
     "output_type": "execute_result"
    },
    {
     "data": {
      "image/png": "[encoded data removed]",
      "text/plain": [
       "<Figure size 640x480 with 1 Axes>"
      ]
     },
     "metadata": {},
     "output_type": "display_data"
    }
   ],
   "source": [
    "sns.countplot(x='Education',data=train1)"
   ]
  },
  {
   "cell_type": "code",
   "execution_count": 26,
   "id": "277ffe3a",
   "metadata": {
    "execution": {
     "iopub.execute_input": "2023-03-15T07:20:22.626265Z",
     "iopub.status.busy": "2023-03-15T07:20:22.625181Z",
     "iopub.status.idle": "2023-03-15T07:20:23.028873Z",
     "shell.execute_reply": "2023-03-15T07:20:23.027193Z"
    },
    "papermill": {
     "duration": 0.424556,
     "end_time": "2023-03-15T07:20:23.031742",
     "exception": false,
     "start_time": "2023-03-15T07:20:22.607186",
     "status": "completed"
    },
    "tags": []
   },
   "outputs": [
    {
     "data": {
      "text/plain": [
       "<AxesSubplot:>"
      ]
     },
     "execution_count": 26,
     "metadata": {},
     "output_type": "execute_result"
    },
    {
     "data": {
      "image/png": "[encoded data removed]",
      "text/plain": [
       "<Figure size 640x480 with 2 Axes>"
      ]
     },
     "metadata": {},
     "output_type": "display_data"
    }
   ],
   "source": [
    "corr = train1.corr()\n",
    "sns.heatmap(corr, annot = True)\n"
   ]
  },
  {
   "cell_type": "markdown",
   "id": "1dc14222",
   "metadata": {
    "papermill": {
     "duration": 0.020085,
     "end_time": "2023-03-15T07:20:23.069670",
     "exception": false,
     "start_time": "2023-03-15T07:20:23.049585",
     "status": "completed"
    },
    "tags": []
   },
   "source": [
    "#MACHINE LEARNING USING SKLEARN(LINEAR REGRESSION)\n"
   ]
  },
  {
   "cell_type": "code",
   "execution_count": 27,
   "id": "dc9c608e",
   "metadata": {
    "execution": {
     "iopub.execute_input": "2023-03-15T07:20:23.106279Z",
     "iopub.status.busy": "2023-03-15T07:20:23.105401Z",
     "iopub.status.idle": "2023-03-15T07:20:23.114328Z",
     "shell.execute_reply": "2023-03-15T07:20:23.112729Z"
    },
    "papermill": {
     "duration": 0.030463,
     "end_time": "2023-03-15T07:20:23.117065",
     "exception": false,
     "start_time": "2023-03-15T07:20:23.086602",
     "status": "completed"
    },
    "tags": []
   },
   "outputs": [],
   "source": [
    "from sklearn.preprocessing import OneHotEncoder\n",
    "def category_to_column(df, column, prefix=''):\n",
    "    df_copy = df.copy()\n",
    "    oe_style = OneHotEncoder()\n",
    "    oe_results = oe_style.fit_transform(df_copy[[column]])\n",
    "    name_columns = prefix + oe_style.categories_[0]\n",
    "    temp = pd.DataFrame(oe_results.toarray(), columns=name_columns, index=df_copy.index)\n",
    "    df_copy = pd.concat([df_copy, temp], axis=1)\n",
    "    return df_copy"
   ]
  },
  {
   "cell_type": "code",
   "execution_count": 28,
   "id": "ddbbb98f",
   "metadata": {
    "execution": {
     "iopub.execute_input": "2023-03-15T07:20:23.152912Z",
     "iopub.status.busy": "2023-03-15T07:20:23.152058Z",
     "iopub.status.idle": "2023-03-15T07:20:23.157814Z",
     "shell.execute_reply": "2023-03-15T07:20:23.156537Z"
    },
    "papermill": {
     "duration": 0.02651,
     "end_time": "2023-03-15T07:20:23.160351",
     "exception": false,
     "start_time": "2023-03-15T07:20:23.133841",
     "status": "completed"
    },
    "tags": []
   },
   "outputs": [],
   "source": [
    "from sklearn.preprocessing import OneHotEncoder\n",
    "OHE = OneHotEncoder()"
   ]
  },
  {
   "cell_type": "code",
   "execution_count": 29,
   "id": "18f88333",
   "metadata": {
    "execution": {
     "iopub.execute_input": "2023-03-15T07:20:23.197542Z",
     "iopub.status.busy": "2023-03-15T07:20:23.196640Z",
     "iopub.status.idle": "2023-03-15T07:20:23.202131Z",
     "shell.execute_reply": "2023-03-15T07:20:23.201297Z"
    },
    "papermill": {
     "duration": 0.027313,
     "end_time": "2023-03-15T07:20:23.204749",
     "exception": false,
     "start_time": "2023-03-15T07:20:23.177436",
     "status": "completed"
    },
    "tags": []
   },
   "outputs": [],
   "source": [
    "from sklearn import linear_model\n",
    "reg = linear_model.LinearRegression()"
   ]
  },
  {
   "cell_type": "code",
   "execution_count": 30,
   "id": "78985b17",
   "metadata": {
    "execution": {
     "iopub.execute_input": "2023-03-15T07:20:23.240714Z",
     "iopub.status.busy": "2023-03-15T07:20:23.240278Z",
     "iopub.status.idle": "2023-03-15T07:20:23.245798Z",
     "shell.execute_reply": "2023-03-15T07:20:23.244579Z"
    },
    "papermill": {
     "duration": 0.026857,
     "end_time": "2023-03-15T07:20:23.248496",
     "exception": false,
     "start_time": "2023-03-15T07:20:23.221639",
     "status": "completed"
    },
    "tags": []
   },
   "outputs": [],
   "source": [
    "from sklearn.model_selection import train_test_split"
   ]
  },
  {
   "cell_type": "code",
   "execution_count": 31,
   "id": "b866a201",
   "metadata": {
    "execution": {
     "iopub.execute_input": "2023-03-15T07:20:23.286644Z",
     "iopub.status.busy": "2023-03-15T07:20:23.285087Z",
     "iopub.status.idle": "2023-03-15T07:20:23.304631Z",
     "shell.execute_reply": "2023-03-15T07:20:23.303183Z"
    },
    "papermill": {
     "duration": 0.041105,
     "end_time": "2023-03-15T07:20:23.307121",
     "exception": false,
     "start_time": "2023-03-15T07:20:23.266016",
     "status": "completed"
    },
    "tags": []
   },
   "outputs": [
    {
     "data": {
      "text/html": [
       "<div>\n",
       "<style scoped>\n",
       "    .dataframe tbody tr th:only-of-type {\n",
       "        vertical-align: middle;\n",
       "    }\n",
       "\n",
       "    .dataframe tbody tr th {\n",
       "        vertical-align: top;\n",
       "    }\n",
       "\n",
       "    .dataframe thead th {\n",
       "        text-align: right;\n",
       "    }\n",
       "</style>\n",
       "<table border=\"1\" class=\"dataframe\">\n",
       "  <thead>\n",
       "    <tr style=\"text-align: right;\">\n",
       "      <th></th>\n",
       "      <th>Gender</th>\n",
       "      <th>Married</th>\n",
       "      <th>Dependents</th>\n",
       "      <th>Education</th>\n",
       "      <th>Self_Employed</th>\n",
       "      <th>Applicant_Income</th>\n",
       "      <th>Coapplicant_Income</th>\n",
       "      <th>Loan_Amount</th>\n",
       "      <th>Term</th>\n",
       "      <th>Credit_History</th>\n",
       "      <th>Area</th>\n",
       "      <th>Status</th>\n",
       "    </tr>\n",
       "  </thead>\n",
       "  <tbody>\n",
       "    <tr>\n",
       "      <th>0</th>\n",
       "      <td>Male</td>\n",
       "      <td>No</td>\n",
       "      <td>0</td>\n",
       "      <td>Graduate</td>\n",
       "      <td>No</td>\n",
       "      <td>584900</td>\n",
       "      <td>0.0</td>\n",
       "      <td>15000000</td>\n",
       "      <td>360.0</td>\n",
       "      <td>1.0</td>\n",
       "      <td>Urban</td>\n",
       "      <td>Y</td>\n",
       "    </tr>\n",
       "    <tr>\n",
       "      <th>1</th>\n",
       "      <td>Male</td>\n",
       "      <td>Yes</td>\n",
       "      <td>1</td>\n",
       "      <td>Graduate</td>\n",
       "      <td>No</td>\n",
       "      <td>458300</td>\n",
       "      <td>150800.0</td>\n",
       "      <td>12800000</td>\n",
       "      <td>360.0</td>\n",
       "      <td>1.0</td>\n",
       "      <td>Rural</td>\n",
       "      <td>N</td>\n",
       "    </tr>\n",
       "    <tr>\n",
       "      <th>2</th>\n",
       "      <td>Male</td>\n",
       "      <td>Yes</td>\n",
       "      <td>0</td>\n",
       "      <td>Graduate</td>\n",
       "      <td>Yes</td>\n",
       "      <td>300000</td>\n",
       "      <td>0.0</td>\n",
       "      <td>6600000</td>\n",
       "      <td>360.0</td>\n",
       "      <td>1.0</td>\n",
       "      <td>Urban</td>\n",
       "      <td>Y</td>\n",
       "    </tr>\n",
       "    <tr>\n",
       "      <th>3</th>\n",
       "      <td>Male</td>\n",
       "      <td>Yes</td>\n",
       "      <td>0</td>\n",
       "      <td>Not Graduate</td>\n",
       "      <td>No</td>\n",
       "      <td>258300</td>\n",
       "      <td>235800.0</td>\n",
       "      <td>12000000</td>\n",
       "      <td>360.0</td>\n",
       "      <td>1.0</td>\n",
       "      <td>Urban</td>\n",
       "      <td>Y</td>\n",
       "    </tr>\n",
       "    <tr>\n",
       "      <th>4</th>\n",
       "      <td>Male</td>\n",
       "      <td>No</td>\n",
       "      <td>0</td>\n",
       "      <td>Graduate</td>\n",
       "      <td>No</td>\n",
       "      <td>600000</td>\n",
       "      <td>0.0</td>\n",
       "      <td>14100000</td>\n",
       "      <td>360.0</td>\n",
       "      <td>1.0</td>\n",
       "      <td>Urban</td>\n",
       "      <td>Y</td>\n",
       "    </tr>\n",
       "  </tbody>\n",
       "</table>\n",
       "</div>"
      ],
      "text/plain": [
       "  Gender Married Dependents     Education Self_Employed  Applicant_Income  \\\n",
       "0   Male      No          0      Graduate            No            584900   \n",
       "1   Male     Yes          1      Graduate            No            458300   \n",
       "2   Male     Yes          0      Graduate           Yes            300000   \n",
       "3   Male     Yes          0  Not Graduate            No            258300   \n",
       "4   Male      No          0      Graduate            No            600000   \n",
       "\n",
       "   Coapplicant_Income  Loan_Amount   Term  Credit_History   Area Status  \n",
       "0                 0.0     15000000  360.0             1.0  Urban      Y  \n",
       "1            150800.0     12800000  360.0             1.0  Rural      N  \n",
       "2                 0.0      6600000  360.0             1.0  Urban      Y  \n",
       "3            235800.0     12000000  360.0             1.0  Urban      Y  \n",
       "4                 0.0     14100000  360.0             1.0  Urban      Y  "
      ]
     },
     "execution_count": 31,
     "metadata": {},
     "output_type": "execute_result"
    }
   ],
   "source": [
    "train1.head()\n"
   ]
  },
  {
   "cell_type": "code",
   "execution_count": 32,
   "id": "c39f65c8",
   "metadata": {
    "execution": {
     "iopub.execute_input": "2023-03-15T07:20:23.344193Z",
     "iopub.status.busy": "2023-03-15T07:20:23.342739Z",
     "iopub.status.idle": "2023-03-15T07:20:23.358079Z",
     "shell.execute_reply": "2023-03-15T07:20:23.356199Z"
    },
    "papermill": {
     "duration": 0.036983,
     "end_time": "2023-03-15T07:20:23.361210",
     "exception": false,
     "start_time": "2023-03-15T07:20:23.324227",
     "status": "completed"
    },
    "tags": []
   },
   "outputs": [
    {
     "name": "stdout",
     "output_type": "stream",
     "text": [
      "<class 'pandas.core.frame.DataFrame'>\n",
      "RangeIndex: 614 entries, 0 to 613\n",
      "Data columns (total 12 columns):\n",
      " #   Column              Non-Null Count  Dtype  \n",
      "---  ------              --------------  -----  \n",
      " 0   Gender              614 non-null    object \n",
      " 1   Married             614 non-null    object \n",
      " 2   Dependents          614 non-null    object \n",
      " 3   Education           614 non-null    object \n",
      " 4   Self_Employed       614 non-null    object \n",
      " 5   Applicant_Income    614 non-null    int64  \n",
      " 6   Coapplicant_Income  614 non-null    float64\n",
      " 7   Loan_Amount         614 non-null    int64  \n",
      " 8   Term                614 non-null    float64\n",
      " 9   Credit_History      614 non-null    float64\n",
      " 10  Area                614 non-null    object \n",
      " 11  Status              614 non-null    object \n",
      "dtypes: float64(3), int64(2), object(7)\n",
      "memory usage: 57.7+ KB\n"
     ]
    }
   ],
   "source": [
    "train1.info()"
   ]
  },
  {
   "cell_type": "code",
   "execution_count": 33,
   "id": "9be92770",
   "metadata": {
    "execution": {
     "iopub.execute_input": "2023-03-15T07:20:23.398334Z",
     "iopub.status.busy": "2023-03-15T07:20:23.397513Z",
     "iopub.status.idle": "2023-03-15T07:20:23.409582Z",
     "shell.execute_reply": "2023-03-15T07:20:23.407691Z"
    },
    "papermill": {
     "duration": 0.033999,
     "end_time": "2023-03-15T07:20:23.412658",
     "exception": false,
     "start_time": "2023-03-15T07:20:23.378659",
     "status": "completed"
    },
    "tags": []
   },
   "outputs": [
    {
     "name": "stdout",
     "output_type": "stream",
     "text": [
      "[[5.849e+05 0.000e+00 1.500e+07 3.600e+02 1.000e+00]\n",
      " [4.583e+05 1.508e+05 1.280e+07 3.600e+02 1.000e+00]\n",
      " [3.000e+05 0.000e+00 6.600e+06 3.600e+02 1.000e+00]\n",
      " [2.583e+05 2.358e+05 1.200e+07 3.600e+02 1.000e+00]\n",
      " [6.000e+05 0.000e+00 1.410e+07 3.600e+02 1.000e+00]]\n",
      "['Y' 'N' 'Y' 'Y' 'Y']\n"
     ]
    }
   ],
   "source": [
    "train1.columns\n",
    "train1 = train1.dropna()\n",
    "X = train1[[ 'Applicant_Income', 'Coapplicant_Income', 'Loan_Amount',\n",
    "       'Term', 'Credit_History']] .values \n",
    "print(X[0:5])\n",
    "\n",
    "\n",
    "y = train1['Status'].values\n",
    "\n",
    "print(y[0:5])"
   ]
  },
  {
   "cell_type": "code",
   "execution_count": 34,
   "id": "ab552a8e",
   "metadata": {
    "execution": {
     "iopub.execute_input": "2023-03-15T07:20:23.450016Z",
     "iopub.status.busy": "2023-03-15T07:20:23.449545Z",
     "iopub.status.idle": "2023-03-15T07:20:23.459196Z",
     "shell.execute_reply": "2023-03-15T07:20:23.457893Z"
    },
    "papermill": {
     "duration": 0.032097,
     "end_time": "2023-03-15T07:20:23.462226",
     "exception": false,
     "start_time": "2023-03-15T07:20:23.430129",
     "status": "completed"
    },
    "tags": []
   },
   "outputs": [],
   "source": [
    "from sklearn import preprocessing\n",
    "from sklearn.model_selection import train_test_split\n",
    "\n",
    "X = preprocessing.StandardScaler().fit(X).transform(X.astype(float))\n",
    "\n",
    "X_train, X_test, y_train, y_test = train_test_split( X, y, test_size=0.2, random_state=4)"
   ]
  },
  {
   "cell_type": "code",
   "execution_count": 35,
   "id": "e10cfa3f",
   "metadata": {
    "execution": {
     "iopub.execute_input": "2023-03-15T07:20:23.500190Z",
     "iopub.status.busy": "2023-03-15T07:20:23.499694Z",
     "iopub.status.idle": "2023-03-15T07:20:23.632804Z",
     "shell.execute_reply": "2023-03-15T07:20:23.631416Z"
    },
    "papermill": {
     "duration": 0.155827,
     "end_time": "2023-03-15T07:20:23.635916",
     "exception": false,
     "start_time": "2023-03-15T07:20:23.480089",
     "status": "completed"
    },
    "tags": []
   },
   "outputs": [
    {
     "data": {
      "text/plain": [
       "KNeighborsClassifier(n_neighbors=4)"
      ]
     },
     "execution_count": 35,
     "metadata": {},
     "output_type": "execute_result"
    }
   ],
   "source": [
    "from sklearn.neighbors import KNeighborsClassifier\n",
    "\n",
    "k = 4\n",
    "ng = KNeighborsClassifier(n_neighbors = k).fit(X_train,y_train)\n",
    "ng"
   ]
  },
  {
   "cell_type": "code",
   "execution_count": 36,
   "id": "9f3ae439",
   "metadata": {
    "execution": {
     "iopub.execute_input": "2023-03-15T07:20:23.673783Z",
     "iopub.status.busy": "2023-03-15T07:20:23.673184Z",
     "iopub.status.idle": "2023-03-15T07:20:23.686728Z",
     "shell.execute_reply": "2023-03-15T07:20:23.685494Z"
    },
    "papermill": {
     "duration": 0.03551,
     "end_time": "2023-03-15T07:20:23.689391",
     "exception": false,
     "start_time": "2023-03-15T07:20:23.653881",
     "status": "completed"
    },
    "tags": []
   },
   "outputs": [
    {
     "data": {
      "text/plain": [
       "array(['Y', 'Y', 'N', 'Y', 'Y'], dtype=object)"
      ]
     },
     "execution_count": 36,
     "metadata": {},
     "output_type": "execute_result"
    }
   ],
   "source": [
    "yhat = ng.predict(X_test)\n",
    "yhat[0:5]"
   ]
  },
  {
   "cell_type": "code",
   "execution_count": 37,
   "id": "40a9c8f2",
   "metadata": {
    "execution": {
     "iopub.execute_input": "2023-03-15T07:20:23.728785Z",
     "iopub.status.busy": "2023-03-15T07:20:23.728351Z",
     "iopub.status.idle": "2023-03-15T07:20:23.754404Z",
     "shell.execute_reply": "2023-03-15T07:20:23.752350Z"
    },
    "papermill": {
     "duration": 0.050088,
     "end_time": "2023-03-15T07:20:23.757568",
     "exception": false,
     "start_time": "2023-03-15T07:20:23.707480",
     "status": "completed"
    },
    "tags": []
   },
   "outputs": [
    {
     "name": "stdout",
     "output_type": "stream",
     "text": [
      "Train set Accuracy:  0.8105906313645621\n",
      "Test set Accuracy:  0.6910569105691057\n"
     ]
    }
   ],
   "source": [
    "from sklearn import metrics\n",
    "print(\"Train set Accuracy: \", metrics.accuracy_score(y_train, ng.predict(X_train)))\n",
    "print(\"Test set Accuracy: \", metrics.accuracy_score(y_test, yhat))"
   ]
  },
  {
   "cell_type": "markdown",
   "id": "794d71c6",
   "metadata": {
    "papermill": {
     "duration": 0.018874,
     "end_time": "2023-03-15T07:20:23.794632",
     "exception": false,
     "start_time": "2023-03-15T07:20:23.775758",
     "status": "completed"
    },
    "tags": []
   },
   "source": [
    "** PLZ UPVOTE IF IT'S HELPFULL** "
   ]
  }
 ],
 "metadata": {
  "kernelspec": {
   "display_name": "Python 3",
   "language": "python",
   "name": "python3"
  },
  "language_info": {
   "codemirror_mode": {
    "name": "ipython",
    "version": 3
   },
   "file_extension": ".py",
   "mimetype": "text/x-python",
   "name": "python",
   "nbconvert_exporter": "python",
   "pygments_lexer": "ipython3",
   "version": "3.7.12"
  },
  "papermill": {
   "default_parameters": {},
   "duration": 17.327707,
   "end_time": "2023-03-15T07:20:24.638500",
   "environment_variables": {},
   "exception": null,
   "input_path": "__notebook__.ipynb",
   "output_path": "__notebook__.ipynb",
   "parameters": {},
   "start_time": "2023-03-15T07:20:07.310793",
   "version": "2.4.0"
  }
 },
 "nbformat": 4,
 "nbformat_minor": 5
}
